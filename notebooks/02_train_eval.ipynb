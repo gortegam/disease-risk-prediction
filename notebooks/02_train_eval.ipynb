{
  "cells": [
    {
      "cell_type": "markdown",
      "metadata": {},
      "source": "# 02 \u2013 Train & Evaluate\nTrains a calibrated model and saves metrics/artifacts."
    },
    {
      "cell_type": "code",
      "metadata": {},
      "execution_count": null,
      "outputs": [],
      "source": "!python -m src.train --csv ../data/pima_sample.csv --outdir ../artifacts --model_type xgb"
    }
  ],
  "metadata": {
    "kernelspec": {
      "display_name": "Python 3",
      "language": "python",
      "name": "python3"
    },
    "language_info": {
      "name": "python",
      "version": "3.11"
    }
  },
  "nbformat": 4,
  "nbformat_minor": 5
}