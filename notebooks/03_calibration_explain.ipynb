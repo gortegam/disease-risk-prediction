{
  "cells": [
    {
      "cell_type": "markdown",
      "metadata": {},
      "source": "# 03 \u2013 Calibration & Explainability\nExports ROC/PR curves JSON; SHAP optional in CLI."
    },
    {
      "cell_type": "code",
      "metadata": {},
      "execution_count": null,
      "outputs": [],
      "source": "!python -m src.evaluate --outdir ../artifacts\nimport json, matplotlib.pyplot as plt\nwith open('../artifacts/curves.json') as f:\n    curves=json.load(f)\nplt.figure(); plt.plot(curves['roc']['fpr'], curves['roc']['tpr']); plt.title('ROC'); plt.xlabel('FPR'); plt.ylabel('TPR'); plt.show()"
    }
  ],
  "metadata": {
    "kernelspec": {
      "display_name": "Python 3",
      "language": "python",
      "name": "python3"
    },
    "language_info": {
      "name": "python",
      "version": "3.11"
    }
  },
  "nbformat": 4,
  "nbformat_minor": 5
}